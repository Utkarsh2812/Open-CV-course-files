{
 "cells": [
  {
   "cell_type": "code",
   "execution_count": 9,
   "metadata": {},
   "outputs": [
    {
     "name": "stdout",
     "output_type": "stream",
     "text": [
      "Collecting opencv-python==4.8.0.74\n",
      "  Downloading opencv_python-4.8.0.74-cp37-abi3-win_amd64.whl (38.1 MB)\n",
      "     --------------------------------------- 38.1/38.1 MB 14.5 MB/s eta 0:00:00Note: you may need to restart the kernel to use updated packages.\n",
      "\n"
     ]
    },
    {
     "name": "stderr",
     "output_type": "stream",
     "text": [
      "WARNING: Ignoring invalid distribution -ip (c:\\users\\utkarsh's pc\\appdata\\local\\programs\\python\\python310\\lib\\site-packages)\n",
      "WARNING: Ignoring invalid distribution -ip (c:\\users\\utkarsh's pc\\appdata\\local\\programs\\python\\python310\\lib\\site-packages)\n",
      "WARNING: Ignoring invalid distribution -ip (c:\\users\\utkarsh's pc\\appdata\\local\\programs\\python\\python310\\lib\\site-packages)\n",
      "    WARNING: Ignoring invalid distribution -ip (c:\\users\\utkarsh's pc\\appdata\\local\\programs\\python\\python310\\lib\\site-packages)\n",
      "ERROR: Could not install packages due to an OSError: [WinError 5] Access is denied: \"C:\\\\Users\\\\Utkarsh's PC\\\\AppData\\\\Local\\\\Programs\\\\Python\\\\Python310\\\\Lib\\\\site-packages\\\\~v2\\\\cv2.pyd\""
     ]
    },
    {
     "name": "stdout",
     "output_type": "stream",
     "text": [
      "Requirement already satisfied: numpy>=1.17.0 in c:\\users\\utkarsh's pc\\appdata\\local\\programs\\python\\python310\\lib\\site-packages (from opencv-python==4.8.0.74) (1.23.4)\n",
      "Installing collected packages: opencv-python\n",
      "  Attempting uninstall: opencv-python\n",
      "    Found existing installation: opencv-python 4.5.5.62\n",
      "    Uninstalling opencv-python-4.5.5.62:\n",
      "      Successfully uninstalled opencv-python-4.5.5.62\n"
     ]
    },
    {
     "name": "stderr",
     "output_type": "stream",
     "text": [
      "\n",
      "Consider using the `--user` option or check the permissions.\n",
      "\n",
      "WARNING: Ignoring invalid distribution -ip (c:\\users\\utkarsh's pc\\appdata\\local\\programs\\python\\python310\\lib\\site-packages)\n",
      "WARNING: Ignoring invalid distribution -ip (c:\\users\\utkarsh's pc\\appdata\\local\\programs\\python\\python310\\lib\\site-packages)\n",
      "WARNING: Ignoring invalid distribution -ip (c:\\users\\utkarsh's pc\\appdata\\local\\programs\\python\\python310\\lib\\site-packages)\n",
      "\n",
      "[notice] A new release of pip is available: 23.0.1 -> 23.2.1\n",
      "[notice] To update, run: python.exe -m pip install --upgrade pip\n"
     ]
    }
   ],
   "source": [
    "%pip install opencv-python==4.8.0.74"
   ]
  },
  {
   "cell_type": "code",
   "execution_count": 10,
   "metadata": {},
   "outputs": [],
   "source": [
    "import cv2"
   ]
  },
  {
   "cell_type": "code",
   "execution_count": 11,
   "metadata": {},
   "outputs": [],
   "source": [
    "# Video capturing code\n",
    "\n",
    "\n",
    "cap = cv2.VideoCapture(0)   # Connecting video capturing device\n",
    "while True:\n",
    "\n",
    "    # Capture every frame\n",
    "    ret, frame = cap.read()\n",
    "\n",
    "    # Display resulting frame\n",
    "    cv2.imshow('frame', frame)\n",
    "\n",
    "    if cv2.waitKey(1) & 0xFF == ord('q'):\n",
    "        break\n",
    "# When everything done, release the capture\n",
    "cap.release()\n",
    "cv2.destroyAllWindows()"
   ]
  },
  {
   "cell_type": "code",
   "execution_count": 12,
   "metadata": {},
   "outputs": [
    {
     "name": "stdout",
     "output_type": "stream",
     "text": [
      "Width of the frame 640\n",
      "Width of the frame 480\n"
     ]
    }
   ],
   "source": [
    "# For Black and White Frame\n",
    "\n",
    "cap = cv2.VideoCapture(0)   # Connecting video capturing device\n",
    "\n",
    "width = int(cap.get(cv2.CAP_PROP_FRAME_WIDTH))\n",
    "height = int(cap.get(cv2.CAP_PROP_FRAME_HEIGHT))\n",
    "\n",
    "while True:\n",
    "\n",
    "    # Capture every frame\n",
    "    ret, frame = cap.read()\n",
    "\n",
    "    gray = cv2.cvtColor(frame, cv2.COLOR_RGB2GRAY)\n",
    "\n",
    "    cv2.imshow('frame', gray)\n",
    "\n",
    "    if cv2.waitKey(1) & 0xFF == ord('q'):\n",
    "        break\n",
    "# When everything done, release the capture\n",
    "cap.release()\n",
    "cv2.destroyAllWindows()\n",
    "\n",
    "print('Width of the frame', width)\n",
    "print('Width of the frame', height)"
   ]
  },
  {
   "cell_type": "code",
   "execution_count": 13,
   "metadata": {},
   "outputs": [],
   "source": [
    "# Random video display using CV2\n",
    "cap = cv2.VideoCapture(r'D:/CVR/new_york_city.mp4')   # Connecting video capturing device\n",
    "\n",
    "while True:\n",
    "\n",
    "    # Capture every frame\n",
    "    ret, frame = cap.read()\n",
    "\n",
    "    if not ret:\n",
    "        break\n",
    "    \n",
    "    cv2.imshow('Video', frame)\n",
    "\n",
    "    if cv2.waitKey(1) & 0xFF == ord('q'):\n",
    "        break\n",
    "# When everything done, release the capture\n",
    "cap.release()\n",
    "cv2.destroyAllWindows()\n"
   ]
  },
  {
   "cell_type": "code",
   "execution_count": 15,
   "metadata": {},
   "outputs": [],
   "source": [
    "import time\n",
    "\n",
    "fps = 30\n",
    "# Random video display using CV2\n",
    "cap = cv2.VideoCapture(r'D:/CVR/new_york_city.mp4')   # Connecting video capturing device​\n",
    "while True:\n",
    "\n",
    "    # Capture every frame\n",
    "    ret, frame = cap.read()\n",
    "    if not ret:\n",
    "        break\n",
    "    \n",
    "    cv2.imshow('Video', frame)\n",
    "\n",
    "    # Calculate the delay time based on the desired fps\n",
    "    delay = 1 / fps\n",
    "    time.sleep(delay)\n",
    "    if cv2.waitKey(1) & 0xFF == ord('q'):\n",
    "        break\n",
    "# When everything done, release the capture\n",
    "cap.release()\n",
    "cv2.destroyAllWindows()"
   ]
  },
  {
   "cell_type": "code",
   "execution_count": 22,
   "metadata": {},
   "outputs": [],
   "source": [
    "# video writing and storing \n",
    "\n",
    "cap = cv2.VideoCapture(0)   # Connecting video capturing device\n",
    "\n",
    "width = int(cap.get(cv2.CAP_PROP_FRAME_WIDTH))\n",
    "height = int(cap.get(cv2.CAP_PROP_FRAME_HEIGHT))\n",
    "\n",
    "fourcc = cv2.VideoWriter_fourcc(*'XVID') #codec\n",
    "\n",
    "fps = 60\n",
    "\n",
    "save_path = r'D:/CVR/myvideo.mp4'\n",
    "\n",
    "writer = cv2.VideoWriter(save_path, fourcc, fps, (width, height))\n",
    "\n",
    "while True:\n",
    "\n",
    "    # Capture every frame\n",
    "    ret, frame = cap.read()\n",
    "\n",
    "    writer.write(frame)\n",
    "\n",
    "    if not ret:\n",
    "        break\n",
    "    \n",
    "    cv2.imshow('Video', frame)\n",
    "\n",
    "    if cv2.waitKey(1) & 0xFF == ord('q'):\n",
    "        break\n",
    "# When everything done, release the capture\n",
    "cap.release()\n",
    "writer.release()\n",
    "cv2.destroyAllWindows()"
   ]
  },
  {
   "cell_type": "code",
   "execution_count": 23,
   "metadata": {},
   "outputs": [],
   "source": [
    "# Displaying captured video using CV2\n",
    "cap = cv2.VideoCapture(r'D:/CVR/myvideo.mp4')   # Connecting video capturing device\n",
    "\n",
    "while True:\n",
    "\n",
    "    # Capture every frame\n",
    "    ret, frame = cap.read()\n",
    "\n",
    "    if not ret:\n",
    "        break\n",
    "    \n",
    "    cv2.imshow('Video', frame)\n",
    "\n",
    "    if cv2.waitKey(1) & 0xFF == ord('q'):\n",
    "        break\n",
    "# When everything done, release the capture\n",
    "cap.release()\n",
    "cv2.destroyAllWindows()\n"
   ]
  },
  {
   "cell_type": "code",
   "execution_count": 25,
   "metadata": {},
   "outputs": [],
   "source": [
    "cap = cv2.VideoCapture(0)   # Connecting video capturing device\n",
    "\n",
    "width = int(cap.get(cv2.CAP_PROP_FRAME_WIDTH))\n",
    "height = int(cap.get(cv2.CAP_PROP_FRAME_HEIGHT))\n",
    "\n",
    "# Coordinates for rectangle\n",
    "x = width//2\n",
    "y = height//2\n",
    "\n",
    "# Width and height\n",
    "\n",
    "w = width//4\n",
    "h = height//4\n",
    "\n",
    "while True:\n",
    "\n",
    "    # Capture every frame\n",
    "    ret, frame = cap.read()\n",
    "\n",
    "    # Draw a rectangle on stream\n",
    "\n",
    "    cv2.rectangle(frame, (x,y), (x+w, y+h), color = (255,0,0), thickness = 3)\n",
    "\n",
    "    \n",
    "    cv2.imshow('frame', frame)\n",
    "\n",
    "    if cv2.waitKey(1) & 0xFF == ord('q'):\n",
    "        break\n",
    "# When everything done, release the capture\n",
    "cap.release()\n",
    "cv2.destroyAllWindows()"
   ]
  }
 ],
 "metadata": {
  "kernelspec": {
   "display_name": "Python 3",
   "language": "python",
   "name": "python3"
  },
  "language_info": {
   "codemirror_mode": {
    "name": "ipython",
    "version": 3
   },
   "file_extension": ".py",
   "mimetype": "text/x-python",
   "name": "python",
   "nbconvert_exporter": "python",
   "pygments_lexer": "ipython3",
   "version": "3.10.8"
  }
 },
 "nbformat": 4,
 "nbformat_minor": 2
}
