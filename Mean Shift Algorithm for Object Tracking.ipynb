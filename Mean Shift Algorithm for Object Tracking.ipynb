{
 "cells": [
  {
   "cell_type": "markdown",
   "metadata": {},
   "source": [
    "# Mean Shift Algorithm Working\n",
    "\n",
    " The steps of the mean shift tracking algorithm are as follows:\n",
    "\n",
    "Initialize the object location and size in the first frame of the video. Define a circular window around the object and compute its color histogram using a kernel function (such as Gaussian or Epanechnikov).\n",
    "\n",
    "In the next frame, search for the window that has the most similar color histogram to the previous one, using a similarity measure (such as Bhattacharyya coefficient or histogram intersection). This can be done by iteratively shifting the window towards the mean of the pixels within it, until convergence or a maximum number of iterations is reached. This is called the mean shift procedure.\n",
    "\n",
    "Update the object location and size based on the new window position and scale. Optionally, update the color histogram of the object as well.\n",
    "\n",
    "Repeat steps 2 and 3 for each subsequent frame until the end of the video or until the object is lost."
   ]
  },
  {
   "cell_type": "code",
   "execution_count": null,
   "metadata": {},
   "outputs": [],
   "source": [
    "import numpy as np\n",
    "import cv2"
   ]
  },
  {
   "cell_type": "code",
   "execution_count": null,
   "metadata": {},
   "outputs": [],
   "source": [
    "cap = cv2.VideoCapture(0)\n",
    "ret, frame = cap.read()\n",
    "face_cascade = cv2.CascadeClassifier(r'D:/CVR/haarcascade_frontalface_default.xml')\n",
    "face_react = face_cascade.detectMultiScale(frame)\n",
    "(face_x, face_y, w, h) = tuple(face_react[0])\n",
    "track_window = (face_x, face_y, w, h)\n",
    "\n",
    "roi = frame[face_y:face_y+h, face_x:face_x+w]\n",
    "hsv_roi = cv2.cvtColor(roi, cv2.COLOR_HSV2BGR)\n",
    "roi_hist = cv2.calcHist([hsv_roi], [0], None, [180], [0,180])\n",
    "cv2.normalize(roi_hist, roi_hist, 0, 255, cv2.NORM_MINMAX)\n",
    "term_crit = (cv2.TERM_CRITERIA_EPS | cv2.TERM_CRITERIA_COUNT, 10, 1)\n",
    "\n",
    "while True:\n",
    "    ret,frame = cap.read()\n",
    "    if ret == True:\n",
    "        hsv = cv2.cvtColor(frame, cv2.COLOR_BGR2HSV)\n",
    "        dst = cv2.calcBackProject([hsv], [0], roi_hist, [0,180], 1)\n",
    "        ret, track_window = cv2.meanShift(dst, track_window, term_crit)\n",
    "        x,y, w, h = track_window\n",
    "        img2 = cv2.rectangle(frame, (x,y), (x+w, y+h), (0,255,0), 5)\n",
    "        cv2.imshow('back projection', dst)\n",
    "        cv2.imshow('object tracking', img2)\n",
    "        if cv2.waitKey(1) & 0xFF == ord('q'):\n",
    "            break\n",
    "        \n",
    "        \n",
    "        \n",
    "cap.release()\n",
    "cv2.destroyAllWindows()"
   ]
  },
  {
   "cell_type": "code",
   "execution_count": null,
   "metadata": {},
   "outputs": [],
   "source": []
  }
 ],
 "metadata": {
  "language_info": {
   "name": "python"
  }
 },
 "nbformat": 4,
 "nbformat_minor": 2
}
